{
 "cells": [
  {
   "cell_type": "code",
   "execution_count": 30,
   "id": "54bb9783-6fa0-4525-b128-1cf3c5d8eab4",
   "metadata": {},
   "outputs": [
    {
     "name": "stdout",
     "output_type": "stream",
     "text": [
      "0.031846912000000026\n",
      "0.005420775437072738\n"
     ]
    }
   ],
   "source": [
    "import math\n",
    "\n",
    "N = 36 # num of questions\n",
    "C = 5 # num of choices\n",
    "M = 10 # num of participants per unit\n",
    "k = 8 # num of identical answers\n",
    "Q = 1 # num of questionable questions\n",
    "\n",
    "def nCr(n,r):\n",
    "    f = math.factorial\n",
    "    return f(n) / f(r) / f(n-r)\n",
    "\n",
    "def prob(j):\n",
    "    pj = 0\n",
    "    for i in range(j,M+1):\n",
    "        pj += C * nCr(M,i) * ((1/C)** i) * ((1 - 1/C) ** (M-i))\n",
    "    return pj\n",
    "\n",
    "p = prob(k)\n",
    "print(p)\n",
    "\n",
    "x = 1\n",
    "for i in range(Q):\n",
    "    x -= nCr(N, i)* (p ** i) * ((1 - p) ** (N-i))\n",
    "\n",
    "print(x)\n",
    "\n",
    "\n",
    "\n"
   ]
  },
  {
   "cell_type": "code",
   "execution_count": null,
   "id": "278401ed-7d02-4e4c-a9b7-b88c71b493b7",
   "metadata": {},
   "outputs": [],
   "source": []
  }
 ],
 "metadata": {
  "kernelspec": {
   "display_name": "Python 3 (ipykernel)",
   "language": "python",
   "name": "python3"
  },
  "language_info": {
   "codemirror_mode": {
    "name": "ipython",
    "version": 3
   },
   "file_extension": ".py",
   "mimetype": "text/x-python",
   "name": "python",
   "nbconvert_exporter": "python",
   "pygments_lexer": "ipython3",
   "version": "3.9.1"
  }
 },
 "nbformat": 4,
 "nbformat_minor": 5
}
