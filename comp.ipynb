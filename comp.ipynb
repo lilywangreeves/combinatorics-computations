{
 "cells": [
  {
   "cell_type": "code",
   "execution_count": 34,
   "id": "54bb9783-6fa0-4525-b128-1cf3c5d8eab4",
   "metadata": {},
   "outputs": [
    {
     "name": "stdout",
     "output_type": "stream",
     "text": [
      "0.00038963200000000027\n",
      "0.013931530735517783\n"
     ]
    }
   ],
   "source": [
    "import math\n",
    "\n",
    "N = 36 # num of questions\n",
    "C = 5 # num of choices\n",
    "M = 10 # num of participants per unit\n",
    "k = 8 # num of identical answers\n",
    "Q = 1 # num of questionable questions\n",
    "\n",
    "# returns n choose r\n",
    "def nCr(n,r):\n",
    "    f = math.factorial\n",
    "    return f(n) / f(r) / f(n-r)\n",
    "\n",
    "# returns the probability that a given question is \n",
    "# questionable, i.e. k or more participants \n",
    "# give the same answer for a given question\n",
    "def prob(j):\n",
    "    pj = 0\n",
    "    for i in range(j,M+1):\n",
    "        pj += C * nCr(M,i) * ((1/C)** i) * ((1 - 1/C) ** (M-i))\n",
    "    return pj\n",
    "\n",
    "p = prob(k)\n",
    "print(p)\n",
    "\n",
    "# computes the probability that there exist Q questionable \n",
    "# questions out of N questions\n",
    "x = 1\n",
    "for i in range(Q):\n",
    "    x -= nCr(N, i)* (p ** i) * ((1 - p) ** (N-i))\n",
    "\n",
    "print(x)"
   ]
  },
  {
   "cell_type": "code",
   "execution_count": 39,
   "id": "278401ed-7d02-4e4c-a9b7-b88c71b493b7",
   "metadata": {},
   "outputs": [
    {
     "name": "stdout",
     "output_type": "stream",
     "text": [
      "1.0045941449259626e-05\n"
     ]
    }
   ],
   "source": [
    "import math\n",
    "\n",
    "N = 36 # num of questions\n",
    "C = 5 # num of choices\n",
    "M = 2 # num of questionable participants\n",
    "A = 10 # num of indentical answers\n",
    "\n",
    "# returns n choose r\n",
    "def nCr(n,r):\n",
    "    f = math.factorial\n",
    "    return f(n) / f(r) / f(n-r)\n",
    "\n",
    "# computes the probability that M participants give\n",
    "# A or more identical answers\n",
    "x = 0\n",
    "for i in range(A, N+1):\n",
    "    x += nCr(N,i)*(((1/C) ** (M-1)) ** i) * ((1 - (1/C) ** (M-1)) ** (N-i))\n",
    "\n",
    "print(x)"
   ]
  },
  {
   "cell_type": "code",
   "execution_count": null,
   "id": "123a1bc0-c143-4d1b-98a4-7b2b9d945859",
   "metadata": {},
   "outputs": [],
   "source": []
  }
 ],
 "metadata": {
  "kernelspec": {
   "display_name": "Python 3 (ipykernel)",
   "language": "python",
   "name": "python3"
  },
  "language_info": {
   "codemirror_mode": {
    "name": "ipython",
    "version": 3
   },
   "file_extension": ".py",
   "mimetype": "text/x-python",
   "name": "python",
   "nbconvert_exporter": "python",
   "pygments_lexer": "ipython3",
   "version": "3.9.1"
  }
 },
 "nbformat": 4,
 "nbformat_minor": 5
}
